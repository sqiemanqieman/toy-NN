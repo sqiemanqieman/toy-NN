{
 "cells": [
  {
   "cell_type": "code",
   "execution_count": 10,
   "metadata": {
    "collapsed": true
   },
   "outputs": [],
   "source": [
    "import tensorflow as tf\n",
    "import numpy as np\n",
    "import matplotlib.pyplot as plt\n",
    "import pandas as pd\n",
    "\n",
    "learning_rate = 0.1\n",
    "training_epochs = 5000\n",
    "display_step = 100\n",
    "n_idle_epochs = 1000\n",
    "early_stopping = tf.keras.callbacks.EarlyStopping(monitor='val_loss', patience=n_idle_epochs, min_delta=0.00001)\n",
    "\n",
    "def scheduler(epoch, lr):\n",
    "    if lr <= 0.01:\n",
    "        return lr\n",
    "    if epoch % 200 == 0:\n",
    "        return lr * 0.8\n",
    "    else:\n",
    "        return lr\n",
    "reduce_lr = tf.keras.callbacks.LearningRateScheduler(scheduler)\n",
    "\n",
    "class NEPOCHLogger(tf.keras.callbacks.Callback):\n",
    "    def __init__(self, per_epoch=100):\n",
    "        super(NEPOCHLogger, self).__init__()\n",
    "        self.seen = 0\n",
    "        self.per_epoch = per_epoch\n",
    "\n",
    "    def on_epoch_end(self, epoch, logs=None):\n",
    "        if epoch % self.per_epoch == 0:\n",
    "            print('Epoch {}, loss {:.8f}, accuracy {:.8f}'.format(epoch, logs['loss'], logs['acc']))\n",
    "\n",
    "log_display = NEPOCHLogger(per_epoch=display_step)\n",
    "train_data = pd.read_csv(r'two_spiral_train_data.txt', header=None, sep='\\s+')\n",
    "test_data = pd.read_csv(r'two_spiral_test_data.txt', header=None, sep='\\s+')\n",
    "train_data['class_0'] = train_data[2].apply(lambda x: 1 if x == 0 else 0)\n",
    "train_data['class_1'] = train_data[2].apply(lambda x: 1 if x == 1 else 0)\n",
    "test_data['class_0'] = test_data[2].apply(lambda x: 1 if x == 0 else 0)\n",
    "test_data['class_1'] = test_data[2].apply(lambda x: 1 if x == 1 else 0)\n",
    "\n",
    "train_X = tf.convert_to_tensor(np.asarray(train_data.iloc[:, 0:2]))\n",
    "train_y = tf.convert_to_tensor(np.asarray(train_data.iloc[:, 2]))\n",
    "test_X = tf.convert_to_tensor(np.asarray(test_data.iloc[:, 0:2]))\n",
    "test_y = tf.convert_to_tensor(np.asarray(test_data.iloc[:, 2]))\n",
    "\n",
    "model = tf.keras.Sequential([\n",
    "    tf.keras.layers.Dense(units=128, input_shape=(2,), activation='swish'),\n",
    "    tf.keras.layers.Dense(units=2, activation='softmax')\n",
    "])\n",
    "\n",
    "optimizer = tf.keras.optimizers.SGD(learning_rate)\n",
    "# tf.keras.losses\n",
    "model.compile(loss='sparse_categorical_crossentropy', optimizer=optimizer, metrics=['acc'])"
   ]
  },
  {
   "cell_type": "code",
   "execution_count": 14,
   "outputs": [
    {
     "name": "stdout",
     "output_type": "stream",
     "text": [
      "Epoch 0, loss 0.65269977, accuracy 0.53333336\n",
      "Epoch 100, loss 0.65243596, accuracy 0.53333336\n",
      "Epoch 200, loss 0.65263247, accuracy 0.54333335\n",
      "Epoch 300, loss 0.65240198, accuracy 0.52999997\n",
      "Epoch 400, loss 0.65236807, accuracy 0.53333336\n",
      "Epoch 500, loss 0.65197444, accuracy 0.52999997\n",
      "Epoch 600, loss 0.65200680, accuracy 0.51999998\n",
      "Epoch 700, loss 0.65191925, accuracy 0.52333331\n",
      "Epoch 800, loss 0.65152079, accuracy 0.51999998\n",
      "Epoch 900, loss 0.65181750, accuracy 0.51666665\n",
      "Epoch 1000, loss 0.65171152, accuracy 0.53666669\n",
      "Epoch 1100, loss 0.65182674, accuracy 0.52999997\n",
      "Epoch 1200, loss 0.65159172, accuracy 0.52333331\n",
      "Epoch 1300, loss 0.65138543, accuracy 0.51666665\n",
      "Epoch 1400, loss 0.65144849, accuracy 0.52666664\n",
      "Epoch 1500, loss 0.65123957, accuracy 0.52666664\n",
      "Epoch 1600, loss 0.65150702, accuracy 0.52333331\n",
      "Epoch 1700, loss 0.65114546, accuracy 0.51666665\n",
      "Epoch 1800, loss 0.65114290, accuracy 0.52999997\n",
      "Epoch 1900, loss 0.65088087, accuracy 0.52999997\n",
      "Epoch 2000, loss 0.65083331, accuracy 0.52333331\n",
      "Epoch 2100, loss 0.65076715, accuracy 0.53333336\n",
      "Epoch 2200, loss 0.65045840, accuracy 0.52999997\n",
      "Epoch 2300, loss 0.65047419, accuracy 0.52666664\n",
      "Epoch 2400, loss 0.65037721, accuracy 0.52666664\n",
      "Epoch 2500, loss 0.65035230, accuracy 0.52999997\n",
      "Epoch 2600, loss 0.65033025, accuracy 0.52999997\n",
      "Epoch 2700, loss 0.65037483, accuracy 0.52999997\n",
      "Epoch 2800, loss 0.65030265, accuracy 0.53333336\n",
      "Epoch 2900, loss 0.65025473, accuracy 0.53666669\n",
      "Epoch 3000, loss 0.65021652, accuracy 0.52999997\n",
      "Epoch 3100, loss 0.65001798, accuracy 0.54000002\n",
      "Epoch 3200, loss 0.65012848, accuracy 0.54000002\n",
      "Epoch 3300, loss 0.64988887, accuracy 0.53333336\n",
      "Epoch 3400, loss 0.64995366, accuracy 0.54000002\n",
      "Epoch 3500, loss 0.65002894, accuracy 0.54000002\n",
      "Epoch 3600, loss 0.65002012, accuracy 0.53666669\n",
      "Epoch 3700, loss 0.64994383, accuracy 0.53666669\n",
      "Epoch 3800, loss 0.64969712, accuracy 0.54333335\n",
      "Epoch 3900, loss 0.64962268, accuracy 0.54333335\n",
      "Epoch 4000, loss 0.64966851, accuracy 0.54000002\n",
      "Epoch 4100, loss 0.64958763, accuracy 0.54000002\n",
      "Epoch 4200, loss 0.64947039, accuracy 0.54333335\n",
      "Epoch 4300, loss 0.64915997, accuracy 0.54333335\n",
      "Epoch 4400, loss 0.64921427, accuracy 0.54333335\n",
      "Epoch 4500, loss 0.64923310, accuracy 0.54333335\n",
      "Epoch 4600, loss 0.64904696, accuracy 0.54333335\n",
      "Epoch 4700, loss 0.64910716, accuracy 0.54333335\n",
      "Epoch 4800, loss 0.64908963, accuracy 0.54000002\n",
      "Epoch 4900, loss 0.64899939, accuracy 0.54000002\n",
      "Train Finished! <keras.callbacks.History object at 0x000002664736E020>\n",
      "total number of test samples: 300\n",
      "[0.6842268109321594, 0.5133333206176758]\n"
     ]
    }
   ],
   "source": [
    "history = model.fit(train_X, train_y, epochs=training_epochs, verbose=0, batch_size=16, callbacks=[log_display, reduce_lr])\n",
    "print(\"Train Finished!\", history)\n",
    "\n",
    "# print('Final train loss: %10.8f' % history.history[\"loss\"][-1])\n",
    "# print('Final test loss: %10.8f' % model.evaluate(test_X, test_y, verbose=0)[0])\n",
    "y_hat_train = model.predict(train_X, verbose=0)\n",
    "y_hat_test = model.predict(test_X, verbose=0)\n",
    "# abs_train_error = np.abs((tf.convert_to_tensor(np.reshape(y_hat_train, (300,2))) - tf.cast(train_y, tf.float32)).numpy())\n",
    "# abs_test_error = np.abs((tf.convert_to_tensor(np.reshape(y_hat_test, (300,2))) - tf.cast(test_y, tf.float32)).numpy())\n",
    "print('total number of test samples: %d' % len(test_y))\n",
    "# print('number of train samples with absolute error >= 0.1: %d' % len(abs_train_error[abs_train_error >= 0.10]))\n",
    "# print('number of train samples with absolute error >= 0.5: %d' % len(abs_train_error[abs_train_error >= 0.50]))\n",
    "# print('number of test samples with absolute error >= 0.1: %d' % len(abs_test_error[abs_test_error >= 0.10]))\n",
    "# print('number of test samples with absolute error >= 0.5: %d' % len(abs_test_error[abs_test_error >= 0.50]))\n",
    "print(model.evaluate(test_X, test_y, verbose=0))\n",
    "# with open('abs_test_error.txt', 'w') as f:\n",
    "#     for item in abs_test_error:\n",
    "#         f.write(\"%s\\n\" % item)"
   ],
   "metadata": {
    "collapsed": false
   }
  },
  {
   "cell_type": "code",
   "execution_count": 12,
   "outputs": [],
   "source": [
    "class_0_area, class_1_area = {}, {}\n",
    "for x in np.arange(-10, 10, 0.2):\n",
    "    for y in np.arange(-10, 10, 0.2):\n",
    "        if model.predict([[x, y]], verbose=0)[0][0] > 0.5:\n",
    "            class_1_area.setdefault('x', []).append(x)\n",
    "            class_1_area.setdefault('y', []).append(y)\n",
    "        else:\n",
    "            class_0_area.setdefault('x', []).append(x)\n",
    "            class_0_area.setdefault('y', []).append(y)"
   ],
   "metadata": {
    "collapsed": false
   }
  },
  {
   "cell_type": "code",
   "execution_count": 13,
   "outputs": [
    {
     "data": {
      "text/plain": "<Figure size 640x480 with 1 Axes>",
      "image/png": "[encoded data removed]"
     },
     "metadata": {},
     "output_type": "display_data"
    }
   ],
   "source": [
    "class_0, class_1 = {}, {}\n",
    "for X, y in zip(np.concatenate([train_X.numpy(), test_X.numpy()], 0), np.concatenate([train_y.numpy(), test_y.numpy()], 0)):\n",
    "    if y == 0:\n",
    "        class_0.setdefault('x', []).append(X[0])\n",
    "        class_0.setdefault('y', []).append(X[1])\n",
    "    else:\n",
    "        class_1.setdefault('x', []).append(X[0])\n",
    "        class_1.setdefault('y', []).append(X[1])\n",
    "plt.axes().set_facecolor('gray')\n",
    "plt.plot(class_0_area['x'], class_0_area['y'], 'cs', markersize=3, label='class 0 area')\n",
    "plt.plot(class_1_area['x'], class_1_area['y'], 'ys', markersize=3, label='class 1 area')\n",
    "plt.plot(class_0['x'], class_0['y'], 'wo', markersize=2, label='class 0')\n",
    "plt.plot(class_1['x'], class_1['y'], 'o', markersize=2, color='#000000', label='class 1')\n",
    "plt.show()"
   ],
   "metadata": {
    "collapsed": false
   }
  },
  {
   "cell_type": "code",
   "execution_count": 13,
   "outputs": [],
   "source": [],
   "metadata": {
    "collapsed": false
   }
  }
 ],
 "metadata": {
  "kernelspec": {
   "display_name": "Python 3",
   "language": "python",
   "name": "python3"
  },
  "language_info": {
   "codemirror_mode": {
    "name": "ipython",
    "version": 2
   },
   "file_extension": ".py",
   "mimetype": "text/x-python",
   "name": "python",
   "nbconvert_exporter": "python",
   "pygments_lexer": "ipython2",
   "version": "2.7.6"
  }
 },
 "nbformat": 4,
 "nbformat_minor": 0
}
