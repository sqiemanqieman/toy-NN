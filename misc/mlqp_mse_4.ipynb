{
 "cells": [
  {
   "cell_type": "code",
   "execution_count": 2,
   "outputs": [],
   "source": [
    "import tensorflow as tf\n",
    "import numpy as np\n",
    "import matplotlib.pyplot as plt\n",
    "import pandas as pd"
   ],
   "metadata": {
    "collapsed": false
   }
  },
  {
   "cell_type": "code",
   "execution_count": 3,
   "outputs": [],
   "source": [
    "class MLQPLayer(tf.keras.layers.Layer):\n",
    "    def __init__(self, n_outputs):\n",
    "        super(MLQPLayer, self).__init__()\n",
    "        self.n_outputs = n_outputs\n",
    "\n",
    "    def build(self, input_shape):\n",
    "        self.mu = self.add_weight('mu', shape=[int(input_shape[-1]), self.n_outputs])\n",
    "        self.nu = self.add_weight('nu', shape=[int(input_shape[-1]), self.n_outputs])\n",
    "        self.bias = self.add_weight('bias', shape=[1, self.n_outputs])\n",
    "\n",
    "    def call(self, inputs, *args, **kwargs):\n",
    "        return tf.matmul(inputs*inputs, self.mu) + tf.matmul(inputs, self.nu) + self.bias"
   ],
   "metadata": {
    "collapsed": false
   }
  },
  {
   "cell_type": "code",
   "execution_count": 7,
   "outputs": [],
   "source": [
    "learning_rate = 0.1\n",
    "training_epochs = 5000\n",
    "display_step = 100\n",
    "n_idle_epochs = 1000\n",
    "early_stopping = tf.keras.callbacks.EarlyStopping(monitor='val_loss', patience=n_idle_epochs, min_delta=0.00001)\n",
    "\n",
    "def scheduler(epoch, lr):\n",
    "    if lr <= 0.01:\n",
    "        return lr\n",
    "    if epoch % 200 == 0:\n",
    "        return lr * 0.8\n",
    "        # return lr * 0.9   # best\n",
    "    else:\n",
    "        return lr\n",
    "reduce_lr = tf.keras.callbacks.LearningRateScheduler(scheduler)\n",
    "\n",
    "class NEPOCHLogger(tf.keras.callbacks.Callback):\n",
    "    def __init__(self, per_epoch=100):\n",
    "        super(NEPOCHLogger, self).__init__()\n",
    "        self.seen = 0\n",
    "        self.per_epoch = per_epoch\n",
    "\n",
    "    def on_epoch_end(self, epoch, logs=None):\n",
    "        if epoch % self.per_epoch == 0:\n",
    "            print('Epoch {}, loss {:.8f}, mae {:.8f}'.format(epoch, logs['loss'], logs['mae']))\n",
    "\n",
    "log_display = NEPOCHLogger(per_epoch=display_step)\n",
    "train_data = pd.read_csv(r'two_spiral_train_data.txt', header=None, sep='\\s+')\n",
    "test_data = pd.read_csv(r'two_spiral_test_data.txt', header=None, sep='\\s+')\n",
    "train_data['class_0'] = train_data[2].apply(lambda x: 1 if x == 0 else 0)\n",
    "train_data['class_1'] = train_data[2].apply(lambda x: 1 if x == 1 else 0)\n",
    "test_data['class_0'] = test_data[2].apply(lambda x: 1 if x == 0 else 0)\n",
    "test_data['class_1'] = test_data[2].apply(lambda x: 1 if x == 1 else 0)\n",
    "\n",
    "train_X = tf.convert_to_tensor(np.asarray(train_data.iloc[:, 0:2]))\n",
    "train_y = tf.convert_to_tensor(np.asarray(train_data.iloc[:, 2]))\n",
    "test_X = tf.convert_to_tensor(np.asarray(test_data.iloc[:, 0:2]))\n",
    "test_y = tf.convert_to_tensor(np.asarray(test_data.iloc[:, 2]))\n",
    "\n",
    "model = tf.keras.Sequential([\n",
    "    MLQPLayer(128),\n",
    "    tf.keras.layers.Activation('tanh'),\n",
    "    MLQPLayer(1),\n",
    "    tf.keras.layers.Activation('sigmoid')\n",
    "])\n",
    "\n",
    "optimizer = tf.keras.optimizers.SGD(learning_rate)\n",
    "model.compile(loss='mse', optimizer=optimizer, metrics=['mae'])"
   ],
   "metadata": {
    "collapsed": false
   }
  },
  {
   "cell_type": "code",
   "execution_count": 11,
   "outputs": [
    {
     "name": "stdout",
     "output_type": "stream",
     "text": [
      "Epoch 0, loss 0.00060474, mae 0.01738134\n",
      "Epoch 100, loss 0.00057219, mae 0.01720876\n",
      "Epoch 200, loss 0.00055277, mae 0.01686109\n",
      "Epoch 300, loss 0.00054522, mae 0.01673839\n",
      "Epoch 400, loss 0.00051279, mae 0.01639286\n",
      "Epoch 500, loss 0.00049584, mae 0.01620405\n",
      "Epoch 600, loss 0.00048844, mae 0.01598911\n",
      "Epoch 700, loss 0.00047554, mae 0.01585422\n",
      "Epoch 800, loss 0.00046056, mae 0.01564894\n",
      "Epoch 900, loss 0.00044743, mae 0.01540093\n",
      "Epoch 1000, loss 0.00043551, mae 0.01526951\n",
      "Epoch 1100, loss 0.00042863, mae 0.01512496\n",
      "Epoch 1200, loss 0.00041626, mae 0.01491857\n",
      "Epoch 1300, loss 0.00040441, mae 0.01463658\n",
      "Epoch 1400, loss 0.00039507, mae 0.01457772\n",
      "Epoch 1500, loss 0.00039567, mae 0.01439826\n",
      "Epoch 1600, loss 0.00037932, mae 0.01426755\n",
      "Epoch 1700, loss 0.00036114, mae 0.01402140\n",
      "Epoch 1800, loss 0.00035965, mae 0.01391713\n",
      "Epoch 1900, loss 0.00035343, mae 0.01382892\n",
      "Epoch 2000, loss 0.00034686, mae 0.01364374\n",
      "Epoch 2100, loss 0.00034008, mae 0.01351661\n",
      "Epoch 2200, loss 0.00032924, mae 0.01340643\n",
      "Epoch 2300, loss 0.00032486, mae 0.01327273\n",
      "Epoch 2400, loss 0.00032200, mae 0.01327241\n",
      "Epoch 2500, loss 0.00031267, mae 0.01300472\n",
      "Epoch 2600, loss 0.00030514, mae 0.01290086\n",
      "Epoch 2700, loss 0.00030077, mae 0.01277770\n",
      "Epoch 2800, loss 0.00030005, mae 0.01264534\n",
      "Epoch 2900, loss 0.00029078, mae 0.01257247\n",
      "Epoch 3000, loss 0.00028474, mae 0.01249523\n",
      "Epoch 3100, loss 0.00028056, mae 0.01239469\n",
      "Epoch 3200, loss 0.00027581, mae 0.01228860\n",
      "Epoch 3300, loss 0.00027056, mae 0.01217448\n",
      "Epoch 3400, loss 0.00026657, mae 0.01211469\n",
      "Epoch 3500, loss 0.00026309, mae 0.01201154\n",
      "Epoch 3600, loss 0.00025731, mae 0.01187224\n",
      "Epoch 3700, loss 0.00025733, mae 0.01188819\n",
      "Epoch 3800, loss 0.00025183, mae 0.01175206\n",
      "Epoch 3900, loss 0.00024338, mae 0.01161347\n",
      "Epoch 4000, loss 0.00024224, mae 0.01158612\n",
      "Epoch 4100, loss 0.00023846, mae 0.01145026\n",
      "Epoch 4200, loss 0.00023447, mae 0.01139650\n",
      "Epoch 4300, loss 0.00023168, mae 0.01130681\n",
      "Epoch 4400, loss 0.00022818, mae 0.01125134\n",
      "Epoch 4500, loss 0.00022261, mae 0.01112475\n",
      "Epoch 4600, loss 0.00022280, mae 0.01111569\n",
      "Epoch 4700, loss 0.00021903, mae 0.01099370\n",
      "Epoch 4800, loss 0.00021616, mae 0.01093776\n",
      "Epoch 4900, loss 0.00021295, mae 0.01086445\n",
      "Train Finished! <keras.callbacks.History object at 0x000001BF55D498D0>\n",
      "total number of test samples: 300\n",
      "[0.026004789397120476, 0.06244884431362152]\n"
     ]
    }
   ],
   "source": [
    "history = model.fit(train_X, train_y, epochs=training_epochs, verbose=0, batch_size=16, callbacks=[log_display])\n",
    "print(\"Train Finished!\", history)\n",
    "\n",
    "y_hat_train = model.predict(train_X, verbose=0)\n",
    "y_hat_test = model.predict(test_X, verbose=0)\n",
    "print('total number of test samples: %d' % len(test_y))\n",
    "print(model.evaluate(test_X, test_y, verbose=0))"
   ],
   "metadata": {
    "collapsed": false
   }
  },
  {
   "cell_type": "code",
   "execution_count": 12,
   "outputs": [],
   "source": [
    "class_0_area, class_1_area = {}, {}\n",
    "for x in np.arange(-6, 6.1, 0.5):\n",
    "    for y in np.arange(-6, 6.1, 0.5):\n",
    "        if model.predict([[x, y]], verbose=0)[0][0] > 0.5:\n",
    "            class_1_area.setdefault('x', []).append(x)\n",
    "            class_1_area.setdefault('y', []).append(y)\n",
    "        else:\n",
    "            class_0_area.setdefault('x', []).append(x)\n",
    "            class_0_area.setdefault('y', []).append(y)"
   ],
   "metadata": {
    "collapsed": false
   }
  },
  {
   "cell_type": "code",
   "execution_count": 13,
   "outputs": [
    {
     "data": {
      "text/plain": "<Figure size 640x480 with 1 Axes>",
      "image/png": "[encoded data removed]"
     },
     "metadata": {},
     "output_type": "display_data"
    }
   ],
   "source": [
    "class_0, class_1 = {}, {}\n",
    "for X, y in zip(np.concatenate([train_X.numpy(), test_X.numpy()], 0), np.concatenate([train_y.numpy(), test_y.numpy()], 0)):\n",
    "    if y == 0:\n",
    "        class_0.setdefault('x', []).append(X[0])\n",
    "        class_0.setdefault('y', []).append(X[1])\n",
    "    else:\n",
    "        class_1.setdefault('x', []).append(X[0])\n",
    "        class_1.setdefault('y', []).append(X[1])\n",
    "plt.axes().set_facecolor('gray')\n",
    "plt.plot(class_0_area['x'], class_0_area['y'], 'cs', markersize=3, label='class 0 area')\n",
    "plt.plot(class_1_area['x'], class_1_area['y'], 'ys', markersize=3, label='class 1 area')\n",
    "plt.plot(class_0['x'], class_0['y'], 'wo', markersize=2, label='class 0')\n",
    "plt.plot(class_1['x'], class_1['y'], 'o', markersize=2, color='#000000', label='class 1')\n",
    "plt.show()"
   ],
   "metadata": {
    "collapsed": false
   }
  },
  {
   "cell_type": "code",
   "execution_count": null,
   "outputs": [],
   "source": [],
   "metadata": {
    "collapsed": false
   }
  }
 ],
 "metadata": {
  "kernelspec": {
   "display_name": "Python 3",
   "language": "python",
   "name": "python3"
  },
  "language_info": {
   "codemirror_mode": {
    "name": "ipython",
    "version": 2
   },
   "file_extension": ".py",
   "mimetype": "text/x-python",
   "name": "python",
   "nbconvert_exporter": "python",
   "pygments_lexer": "ipython2",
   "version": "2.7.6"
  }
 },
 "nbformat": 4,
 "nbformat_minor": 0
}
