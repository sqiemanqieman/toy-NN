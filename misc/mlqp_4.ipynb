{
 "cells": [
  {
   "cell_type": "code",
   "execution_count": 31,
   "outputs": [],
   "source": [
    "import tensorflow as tf\n",
    "import numpy as np\n",
    "import matplotlib.pyplot as plt\n",
    "import pandas as pd"
   ],
   "metadata": {
    "collapsed": false
   }
  },
  {
   "cell_type": "code",
   "execution_count": 32,
   "outputs": [],
   "source": [
    "class MLQPLayer(tf.keras.layers.Layer):\n",
    "    def __init__(self, n_outputs):\n",
    "        super(MLQPLayer, self).__init__()\n",
    "        self.n_outputs = n_outputs\n",
    "\n",
    "    def build(self, input_shape):\n",
    "        self.mu = self.add_weight('mu', shape=[int(input_shape[-1]), self.n_outputs])\n",
    "        self.nu = self.add_weight('nu', shape=[int(input_shape[-1]), self.n_outputs])\n",
    "        self.bias = self.add_weight('bias', shape=[1, self.n_outputs])\n",
    "\n",
    "    def call(self, inputs, *args, **kwargs):\n",
    "        return tf.matmul(inputs*inputs, self.mu) + tf.matmul(inputs, self.nu) + self.bias"
   ],
   "metadata": {
    "collapsed": false
   }
  },
  {
   "cell_type": "code",
   "execution_count": 33,
   "outputs": [],
   "source": [
    "learning_rate = 0.1\n",
    "training_epochs = 5000\n",
    "display_step = 100\n",
    "n_idle_epochs = 1000\n",
    "early_stopping = tf.keras.callbacks.EarlyStopping(monitor='val_loss', patience=n_idle_epochs, min_delta=0.00001)\n",
    "\n",
    "def scheduler(epoch, lr):\n",
    "    if lr <= 0.01:\n",
    "        return lr\n",
    "    if epoch % 200 == 0:\n",
    "        return lr * 0.8\n",
    "        # return lr * 0.9   # best\n",
    "    else:\n",
    "        return lr\n",
    "reduce_lr = tf.keras.callbacks.LearningRateScheduler(scheduler)\n",
    "\n",
    "class NEPOCHLogger(tf.keras.callbacks.Callback):\n",
    "    def __init__(self, per_epoch=100):\n",
    "        super(NEPOCHLogger, self).__init__()\n",
    "        self.seen = 0\n",
    "        self.per_epoch = per_epoch\n",
    "\n",
    "    def on_epoch_end(self, epoch, logs=None):\n",
    "        if epoch % self.per_epoch == 0:\n",
    "            print('Epoch {}, loss {:.8f}, train_accuracy {:.8f}'.format(epoch, logs['loss'], logs['acc']))\n",
    "\n",
    "log_display = NEPOCHLogger(per_epoch=display_step)\n",
    "train_data = pd.read_csv(r'two_spiral_train_data.txt', header=None, sep='\\s+')\n",
    "test_data = pd.read_csv(r'two_spiral_test_data.txt', header=None, sep='\\s+')\n",
    "train_data['class_0'] = train_data[2].apply(lambda x: 1 if x == 0 else 0)\n",
    "train_data['class_1'] = train_data[2].apply(lambda x: 1 if x == 1 else 0)\n",
    "test_data['class_0'] = test_data[2].apply(lambda x: 1 if x == 0 else 0)\n",
    "test_data['class_1'] = test_data[2].apply(lambda x: 1 if x == 1 else 0)\n",
    "\n",
    "train_X = tf.convert_to_tensor(np.asarray(train_data.iloc[:, 0:2]))\n",
    "train_y = tf.convert_to_tensor(np.asarray(train_data.iloc[:, 2]))\n",
    "test_X = tf.convert_to_tensor(np.asarray(test_data.iloc[:, 0:2]))\n",
    "test_y = tf.convert_to_tensor(np.asarray(test_data.iloc[:, 2]))\n",
    "\n",
    "model = tf.keras.Sequential([\n",
    "    MLQPLayer(128),\n",
    "    tf.keras.layers.Activation('swish'),\n",
    "    MLQPLayer(2),\n",
    "    tf.keras.layers.Activation('softmax')\n",
    "])\n",
    "\n",
    "optimizer = tf.keras.optimizers.SGD(learning_rate)\n",
    "model.compile(loss='sparse_categorical_crossentropy', optimizer=optimizer, metrics=['acc'])"
   ],
   "metadata": {
    "collapsed": false
   }
  },
  {
   "cell_type": "code",
   "execution_count": 34,
   "outputs": [
    {
     "name": "stdout",
     "output_type": "stream",
     "text": [
      "Epoch 0, loss 4.59731340, train_accuracy 0.47000000\n",
      "Epoch 100, loss 0.44294760, train_accuracy 0.78666669\n",
      "Epoch 200, loss 0.33562708, train_accuracy 0.81999999\n",
      "Epoch 300, loss 0.27564260, train_accuracy 0.88333333\n",
      "Epoch 400, loss 0.19286422, train_accuracy 0.94333333\n",
      "Epoch 500, loss 0.12308178, train_accuracy 0.97000003\n",
      "Epoch 600, loss 0.06706067, train_accuracy 0.99666667\n",
      "Epoch 700, loss 0.04995204, train_accuracy 0.99333334\n",
      "Epoch 800, loss 0.03064198, train_accuracy 0.99666667\n",
      "Epoch 900, loss 0.02350839, train_accuracy 1.00000000\n",
      "Epoch 1000, loss 0.02284825, train_accuracy 1.00000000\n",
      "Epoch 1100, loss 0.02072449, train_accuracy 1.00000000\n",
      "Epoch 1200, loss 0.01363365, train_accuracy 1.00000000\n",
      "Epoch 1300, loss 0.01128835, train_accuracy 1.00000000\n",
      "Epoch 1400, loss 0.00984603, train_accuracy 1.00000000\n",
      "Epoch 1500, loss 0.00846500, train_accuracy 1.00000000\n",
      "Epoch 1600, loss 0.00777211, train_accuracy 1.00000000\n",
      "Epoch 1700, loss 0.00747528, train_accuracy 1.00000000\n",
      "Epoch 1800, loss 0.00665737, train_accuracy 1.00000000\n",
      "Epoch 1900, loss 0.00629582, train_accuracy 1.00000000\n",
      "Epoch 2000, loss 0.00584964, train_accuracy 1.00000000\n",
      "Epoch 2100, loss 0.00535767, train_accuracy 1.00000000\n",
      "Epoch 2200, loss 0.00516683, train_accuracy 1.00000000\n",
      "Epoch 2300, loss 0.00498144, train_accuracy 1.00000000\n",
      "Epoch 2400, loss 0.00479398, train_accuracy 1.00000000\n",
      "Epoch 2500, loss 0.00470714, train_accuracy 1.00000000\n",
      "Epoch 2600, loss 0.00452512, train_accuracy 1.00000000\n",
      "Epoch 2700, loss 0.00438835, train_accuracy 1.00000000\n",
      "Epoch 2800, loss 0.00424154, train_accuracy 1.00000000\n",
      "Epoch 2900, loss 0.00415401, train_accuracy 1.00000000\n",
      "Epoch 3000, loss 0.00398186, train_accuracy 1.00000000\n",
      "Epoch 3100, loss 0.00389307, train_accuracy 1.00000000\n",
      "Epoch 3200, loss 0.00374340, train_accuracy 1.00000000\n",
      "Epoch 3300, loss 0.00369601, train_accuracy 1.00000000\n",
      "Epoch 3400, loss 0.00359445, train_accuracy 1.00000000\n",
      "Epoch 3500, loss 0.00355538, train_accuracy 1.00000000\n",
      "Epoch 3600, loss 0.00336673, train_accuracy 1.00000000\n",
      "Epoch 3700, loss 0.00334033, train_accuracy 1.00000000\n",
      "Epoch 3800, loss 0.00330072, train_accuracy 1.00000000\n",
      "Epoch 3900, loss 0.00332304, train_accuracy 1.00000000\n",
      "Epoch 4000, loss 0.00312405, train_accuracy 1.00000000\n",
      "Epoch 4100, loss 0.00302363, train_accuracy 1.00000000\n",
      "Epoch 4200, loss 0.00295542, train_accuracy 1.00000000\n",
      "Epoch 4300, loss 0.00294198, train_accuracy 1.00000000\n",
      "Epoch 4400, loss 0.00284299, train_accuracy 1.00000000\n",
      "Epoch 4500, loss 0.00288176, train_accuracy 1.00000000\n",
      "Epoch 4600, loss 0.00276404, train_accuracy 1.00000000\n",
      "Epoch 4700, loss 0.00275420, train_accuracy 1.00000000\n",
      "Epoch 4800, loss 0.00269779, train_accuracy 1.00000000\n",
      "Epoch 4900, loss 0.00259786, train_accuracy 1.00000000\n",
      "Train Finished! <keras.callbacks.History object at 0x000001BA23069AE0>\n",
      "total number of test samples: 300\n",
      "[0.03778599947690964, 0.9933333396911621]\n"
     ]
    }
   ],
   "source": [
    "history = model.fit(train_X, train_y, epochs=training_epochs, verbose=0, batch_size=16, callbacks=[log_display, reduce_lr])\n",
    "print(\"Train Finished!\", history)\n",
    "y_hat_train = model.predict(train_X, verbose=0)\n",
    "y_hat_test = model.predict(test_X, verbose=0)\n",
    "print('total number of test samples: %d' % len(test_y))\n",
    "print(model.evaluate(test_X, test_y, verbose=0))"
   ],
   "metadata": {
    "collapsed": false
   }
  },
  {
   "cell_type": "code",
   "execution_count": 1,
   "outputs": [
    {
     "ename": "NameError",
     "evalue": "name 'model' is not defined",
     "output_type": "error",
     "traceback": [
      "\u001B[1;31m---------------------------------------------------------------------------\u001B[0m",
      "\u001B[1;31mNameError\u001B[0m                                 Traceback (most recent call last)",
      "Cell \u001B[1;32mIn[1], line 1\u001B[0m\n\u001B[1;32m----> 1\u001B[0m \u001B[43mmodel\u001B[49m\u001B[38;5;241m.\u001B[39msave(\u001B[38;5;124m'\u001B[39m\u001B[38;5;124mmodels/model.99.33.h5\u001B[39m\u001B[38;5;124m'\u001B[39m)\n",
      "\u001B[1;31mNameError\u001B[0m: name 'model' is not defined"
     ]
    }
   ],
   "source": [],
   "metadata": {
    "collapsed": false
   }
  },
  {
   "cell_type": "code",
   "execution_count": null,
   "outputs": [],
   "source": [
    "class_0_area, class_1_area = {}, {}\n",
    "for x in np.arange(-6, 6.1, 0.5):\n",
    "    for y in np.arange(-6, 6.1, 0.5):\n",
    "        if model.predict([[x, y]], verbose=0)[0][0] < 0.5:\n",
    "            class_1_area.setdefault('x', []).append(x)\n",
    "            class_1_area.setdefault('y', []).append(y)\n",
    "        else:\n",
    "            class_0_area.setdefault('x', []).append(x)\n",
    "            class_0_area.setdefault('y', []).append(y)"
   ],
   "metadata": {
    "collapsed": false,
    "pycharm": {
     "is_executing": true
    }
   }
  },
  {
   "cell_type": "code",
   "execution_count": 36,
   "outputs": [
    {
     "data": {
      "text/plain": "<Figure size 640x480 with 1 Axes>",
      "image/png": "[encoded data removed]"
     },
     "metadata": {},
     "output_type": "display_data"
    }
   ],
   "source": [
    "class_0, class_1 = {}, {}\n",
    "for X, y in zip(np.concatenate([train_X.numpy(), test_X.numpy()], 0), np.concatenate([train_y.numpy(), test_y.numpy()], 0)):\n",
    "    if y == 0:\n",
    "        class_0.setdefault('x', []).append(X[0])\n",
    "        class_0.setdefault('y', []).append(X[1])\n",
    "    else:\n",
    "        class_1.setdefault('x', []).append(X[0])\n",
    "        class_1.setdefault('y', []).append(X[1])\n",
    "plt.axes().set_facecolor('gray')\n",
    "plt.plot(class_0_area['x'], class_0_area['y'], 'cs', markersize=3, label='class 0 area')\n",
    "plt.plot(class_1_area['x'], class_1_area['y'], 'ys', markersize=3, label='class 1 area')\n",
    "plt.plot(class_0['x'], class_0['y'], 'wo', markersize=2, label='class 0')\n",
    "plt.plot(class_1['x'], class_1['y'], 'o', markersize=2, color='#000000', label='class 1')\n",
    "plt.show()"
   ],
   "metadata": {
    "collapsed": false
   }
  },
  {
   "cell_type": "code",
   "execution_count": 36,
   "outputs": [],
   "source": [],
   "metadata": {
    "collapsed": false
   }
  }
 ],
 "metadata": {
  "kernelspec": {
   "display_name": "Python 3",
   "language": "python",
   "name": "python3"
  },
  "language_info": {
   "codemirror_mode": {
    "name": "ipython",
    "version": 2
   },
   "file_extension": ".py",
   "mimetype": "text/x-python",
   "name": "python",
   "nbconvert_exporter": "python",
   "pygments_lexer": "ipython2",
   "version": "2.7.6"
  }
 },
 "nbformat": 4,
 "nbformat_minor": 0
}
