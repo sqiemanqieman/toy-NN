{
 "cells": [
  {
   "cell_type": "code",
   "execution_count": 10,
   "outputs": [],
   "source": [
    "import tensorflow as tf\n",
    "import numpy as np\n",
    "import matplotlib.pyplot as plt\n",
    "import pandas as pd"
   ],
   "metadata": {
    "collapsed": false
   }
  },
  {
   "cell_type": "code",
   "execution_count": 11,
   "outputs": [],
   "source": [
    "class MLQPLayer(tf.keras.layers.Layer):\n",
    "    def __init__(self, n_outputs):\n",
    "        super(MLQPLayer, self).__init__()\n",
    "        self.n_outputs = n_outputs\n",
    "\n",
    "    def build(self, input_shape):\n",
    "        self.mu = self.add_weight('mu', shape=[int(input_shape[-1]), self.n_outputs])\n",
    "        self.nu = self.add_weight('nu', shape=[int(input_shape[-1]), self.n_outputs])\n",
    "        self.bias = self.add_weight('bias', shape=[1, self.n_outputs])\n",
    "\n",
    "    def call(self, inputs, *args, **kwargs):\n",
    "        return tf.matmul(inputs*inputs, self.mu) + tf.matmul(inputs, self.nu) + self.bias"
   ],
   "metadata": {
    "collapsed": false
   }
  },
  {
   "cell_type": "code",
   "execution_count": 12,
   "outputs": [],
   "source": [
    "learning_rate = 0.1\n",
    "training_epochs = 5000\n",
    "display_step = 100\n",
    "n_idle_epochs = 1000\n",
    "early_stopping = tf.keras.callbacks.EarlyStopping(monitor='val_loss', patience=n_idle_epochs, min_delta=0.00001)\n",
    "\n",
    "def scheduler(epoch, lr):\n",
    "    if lr <= 0.01:\n",
    "        return lr\n",
    "    if epoch % 200 == 0:\n",
    "        return lr * 0.8\n",
    "        # return lr * 0.9   # best\n",
    "    else:\n",
    "        return lr\n",
    "reduce_lr = tf.keras.callbacks.LearningRateScheduler(scheduler)\n",
    "\n",
    "class NEPOCHLogger(tf.keras.callbacks.Callback):\n",
    "    def __init__(self, per_epoch=100):\n",
    "        super(NEPOCHLogger, self).__init__()\n",
    "        self.seen = 0\n",
    "        self.per_epoch = per_epoch\n",
    "\n",
    "    def on_epoch_end(self, epoch, logs=None):\n",
    "        if epoch % self.per_epoch == 0:\n",
    "            print('Epoch {}, loss {:.8f}, mae {:.8f}'.format(epoch, logs['loss'], logs['mae']))\n",
    "\n",
    "log_display = NEPOCHLogger(per_epoch=display_step)\n",
    "train_data = pd.read_csv(r'two_spiral_train_data.txt', header=None, sep='\\s+')\n",
    "test_data = pd.read_csv(r'two_spiral_test_data.txt', header=None, sep='\\s+')\n",
    "train_data['class_0'] = train_data[2].apply(lambda x: 1 if x == 0 else 0)\n",
    "train_data['class_1'] = train_data[2].apply(lambda x: 1 if x == 1 else 0)\n",
    "test_data['class_0'] = test_data[2].apply(lambda x: 1 if x == 0 else 0)\n",
    "test_data['class_1'] = test_data[2].apply(lambda x: 1 if x == 1 else 0)\n",
    "\n",
    "train_X = tf.convert_to_tensor(np.asarray(train_data.iloc[:, 0:2]))\n",
    "train_y = tf.convert_to_tensor(np.asarray(train_data.iloc[:, 2]))\n",
    "test_X = tf.convert_to_tensor(np.asarray(test_data.iloc[:, 0:2]))\n",
    "test_y = tf.convert_to_tensor(np.asarray(test_data.iloc[:, 2]))\n",
    "\n",
    "model = tf.keras.Sequential([\n",
    "    MLQPLayer(128),\n",
    "    tf.keras.layers.Activation('leaky_relu'),\n",
    "    MLQPLayer(1),\n",
    "    tf.keras.layers.Activation('sigmoid')\n",
    "])\n",
    "\n",
    "optimizer = tf.keras.optimizers.SGD(learning_rate)\n",
    "model.compile(loss='mse', optimizer=optimizer, metrics=['mae'])"
   ],
   "metadata": {
    "collapsed": false
   }
  },
  {
   "cell_type": "code",
   "execution_count": 17,
   "outputs": [
    {
     "name": "stdout",
     "output_type": "stream",
     "text": [
      "Epoch 0, loss 0.01251822, mae 0.04436459\n",
      "Epoch 100, loss 0.01269749, mae 0.04497076\n",
      "Epoch 200, loss 0.01259947, mae 0.04389774\n",
      "Epoch 300, loss 0.01324321, mae 0.04554089\n",
      "Epoch 400, loss 0.01276852, mae 0.04461576\n",
      "Epoch 500, loss 0.02249026, mae 0.05690987\n",
      "Epoch 600, loss 0.01242202, mae 0.04304635\n",
      "Epoch 700, loss 0.01223564, mae 0.04264383\n",
      "Epoch 800, loss 0.01234630, mae 0.04270438\n",
      "Epoch 900, loss 0.01209591, mae 0.04170753\n",
      "Epoch 1000, loss 0.01217526, mae 0.04191937\n",
      "Epoch 1100, loss 0.01271930, mae 0.04216308\n",
      "Epoch 1200, loss 0.01211813, mae 0.04121643\n",
      "Epoch 1300, loss 0.01213903, mae 0.04091994\n",
      "Epoch 1400, loss 0.01204960, mae 0.04107210\n",
      "Epoch 1500, loss 0.01192351, mae 0.04014473\n",
      "Epoch 1600, loss 0.01190546, mae 0.04010974\n",
      "Epoch 1700, loss 0.01432430, mae 0.04330290\n",
      "Epoch 1800, loss 0.01186166, mae 0.03967176\n",
      "Epoch 1900, loss 0.01180011, mae 0.03938175\n",
      "Epoch 2000, loss 0.01179994, mae 0.03917811\n",
      "Epoch 2100, loss 0.01202898, mae 0.03894326\n",
      "Epoch 2200, loss 0.01182125, mae 0.03931560\n",
      "Epoch 2300, loss 0.01184226, mae 0.03877584\n",
      "Epoch 2400, loss 0.01180128, mae 0.03896720\n",
      "Epoch 2500, loss 0.01167574, mae 0.03834356\n",
      "Epoch 2600, loss 0.01166554, mae 0.03775464\n",
      "Epoch 2700, loss 0.01162044, mae 0.03753432\n",
      "Epoch 2800, loss 0.01162237, mae 0.03714871\n",
      "Epoch 2900, loss 0.04459648, mae 0.07850909\n",
      "Epoch 3000, loss 0.01156536, mae 0.03710174\n",
      "Epoch 3100, loss 0.01149343, mae 0.03683262\n",
      "Epoch 3200, loss 0.01145042, mae 0.03647390\n",
      "Epoch 3300, loss 0.01147746, mae 0.03651487\n",
      "Epoch 3400, loss 0.01144774, mae 0.03646889\n",
      "Epoch 3500, loss 0.01142281, mae 0.03592721\n",
      "Epoch 3600, loss 0.01144989, mae 0.03607495\n",
      "Epoch 3700, loss 0.01156998, mae 0.03633539\n",
      "Epoch 3800, loss 0.01139631, mae 0.03548090\n",
      "Epoch 3900, loss 0.01137366, mae 0.03554406\n",
      "Epoch 4000, loss 0.01140817, mae 0.03578037\n",
      "Epoch 4100, loss 0.01140723, mae 0.03555883\n",
      "Epoch 4200, loss 0.01133008, mae 0.03518999\n",
      "Epoch 4300, loss 0.01133168, mae 0.03492582\n",
      "Epoch 4400, loss 0.01137842, mae 0.03517279\n",
      "Epoch 4500, loss 0.01134235, mae 0.03513478\n",
      "Epoch 4600, loss 0.01125485, mae 0.03477516\n",
      "Epoch 4700, loss 0.01131203, mae 0.03473222\n",
      "Epoch 4800, loss 0.01125490, mae 0.03441086\n",
      "Epoch 4900, loss 0.01132076, mae 0.03406696\n",
      "Train Finished! <keras.callbacks.History object at 0x000001BE7EA050C0>\n",
      "total number of test samples: 300\n",
      "[0.06574607640504837, 0.09856220334768295]\n"
     ]
    }
   ],
   "source": [
    "history = model.fit(train_X, train_y, epochs=training_epochs, verbose=0, batch_size=16, callbacks=[log_display, reduce_lr])\n",
    "print(\"Train Finished!\", history)\n",
    "\n",
    "y_hat_train = model.predict(train_X, verbose=0)\n",
    "y_hat_test = model.predict(test_X, verbose=0)\n",
    "print('total number of test samples: %d' % len(test_y))\n",
    "print(model.evaluate(test_X, test_y, verbose=0))"
   ],
   "metadata": {
    "collapsed": false
   }
  },
  {
   "cell_type": "code",
   "execution_count": 18,
   "outputs": [],
   "source": [
    "class_0_area, class_1_area = {}, {}\n",
    "for x in np.arange(-6, 6.1, 0.5):\n",
    "    for y in np.arange(-6, 6.1, 0.5):\n",
    "        if model.predict([[x, y]], verbose=0)[0][0] > 0.5:\n",
    "            class_1_area.setdefault('x', []).append(x)\n",
    "            class_1_area.setdefault('y', []).append(y)\n",
    "        else:\n",
    "            class_0_area.setdefault('x', []).append(x)\n",
    "            class_0_area.setdefault('y', []).append(y)"
   ],
   "metadata": {
    "collapsed": false
   }
  },
  {
   "cell_type": "code",
   "execution_count": 19,
   "outputs": [
    {
     "data": {
      "text/plain": "<Figure size 640x480 with 1 Axes>",
      "image/png": "[encoded data removed]"
     },
     "metadata": {},
     "output_type": "display_data"
    }
   ],
   "source": [
    "class_0, class_1 = {}, {}\n",
    "for X, y in zip(np.concatenate([train_X.numpy(), test_X.numpy()], 0), np.concatenate([train_y.numpy(), test_y.numpy()], 0)):\n",
    "    if y == 0:\n",
    "        class_0.setdefault('x', []).append(X[0])\n",
    "        class_0.setdefault('y', []).append(X[1])\n",
    "    else:\n",
    "        class_1.setdefault('x', []).append(X[0])\n",
    "        class_1.setdefault('y', []).append(X[1])\n",
    "plt.axes().set_facecolor('gray')\n",
    "plt.plot(class_0_area['x'], class_0_area['y'], 'cs', markersize=2, label='class 0 area')\n",
    "plt.plot(class_1_area['x'], class_1_area['y'], 'ys', markersize=2, label='class 1 area')\n",
    "plt.plot(class_0['x'], class_0['y'], 'wo', markersize=2, label='class 0')\n",
    "plt.plot(class_1['x'], class_1['y'], 'o', markersize=2, color='#000000', label='class 1')\n",
    "plt.show()"
   ],
   "metadata": {
    "collapsed": false
   }
  },
  {
   "cell_type": "code",
   "execution_count": 15,
   "outputs": [],
   "source": [],
   "metadata": {
    "collapsed": false
   }
  }
 ],
 "metadata": {
  "kernelspec": {
   "display_name": "Python 3",
   "language": "python",
   "name": "python3"
  },
  "language_info": {
   "codemirror_mode": {
    "name": "ipython",
    "version": 2
   },
   "file_extension": ".py",
   "mimetype": "text/x-python",
   "name": "python",
   "nbconvert_exporter": "python",
   "pygments_lexer": "ipython2",
   "version": "2.7.6"
  }
 },
 "nbformat": 4,
 "nbformat_minor": 0
}
